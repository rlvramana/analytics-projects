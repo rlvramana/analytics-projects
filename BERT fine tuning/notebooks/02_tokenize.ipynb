{
 "cells": [
  {
   "cell_type": "code",
   "execution_count": 26,
   "id": "736456ad-0455-4a84-ae2e-a82a18bde974",
   "metadata": {},
   "outputs": [],
   "source": [
    "import pandas as pd\n",
    "df_split = pd.read_csv(\"/Users/ramana/Documents/shopper_analysis/notebooks/2TrainingInput/training_2025-04-26_23-16-06.csv\")"
   ]
  },
  {
   "cell_type": "code",
   "execution_count": 27,
   "id": "f52fc940-e558-4842-9655-326c67515dea",
   "metadata": {},
   "outputs": [
    {
     "name": "stdout",
     "output_type": "stream",
     "text": [
      "Original Text: egg incubator digital mini 7 eggs hatching machine poultry hatcher for chicken duck goose quail birds manual egg turning and humidity control 110v\n",
      "Input IDs: tensor([[  101,  8288,  4297, 19761,  4263,  3617,  7163,  1021,  6763, 11300,\n",
      "          2075,  3698, 22468, 11300,  2121,  2005,  7975,  9457, 13020, 24209,\n",
      "         12502,  5055,  6410,  8288,  3810,  1998, 18213,  2491,  7287,  2615,\n",
      "           102,     0,     0,     0,     0,     0,     0,     0,     0,     0,\n",
      "             0,     0,     0,     0,     0,     0,     0,     0,     0,     0,\n",
      "             0,     0,     0,     0,     0,     0,     0,     0,     0,     0,\n",
      "             0,     0,     0,     0]])\n",
      "Attention Mask: tensor([[1, 1, 1, 1, 1, 1, 1, 1, 1, 1, 1, 1, 1, 1, 1, 1, 1, 1, 1, 1, 1, 1, 1, 1,\n",
      "         1, 1, 1, 1, 1, 1, 1, 0, 0, 0, 0, 0, 0, 0, 0, 0, 0, 0, 0, 0, 0, 0, 0, 0,\n",
      "         0, 0, 0, 0, 0, 0, 0, 0, 0, 0, 0, 0, 0, 0, 0, 0]])\n"
     ]
    }
   ],
   "source": [
    "from transformers import BertTokenizer\n",
    "\n",
    "# Load the tokenizer for the BERT base model (uncased = lowercase)\n",
    "tokenizer = BertTokenizer.from_pretrained('bert-base-uncased')\n",
    "\n",
    "# Tokenize a sample to understand the format\n",
    "example = df_split['cleaned_product_name'].iloc[0]\n",
    "encoded = tokenizer(\n",
    "    example,\n",
    "    padding='max_length',       # pad to max_length\n",
    "    truncation=True,            # truncate if too long\n",
    "    max_length=64,              # max length of a product name\n",
    "    return_tensors='pt'         # return PyTorch tensors\n",
    ")\n",
    "\n",
    "print(\"Original Text:\", example)\n",
    "print(\"Input IDs:\", encoded['input_ids'])\n",
    "print(\"Attention Mask:\", encoded['attention_mask'])"
   ]
  },
  {
   "cell_type": "code",
   "execution_count": 28,
   "id": "04641727-74e9-4227-93bd-f0ad5773d0fc",
   "metadata": {},
   "outputs": [
    {
     "name": "stderr",
     "output_type": "stream",
     "text": [
      "Map: 100%|████████████████████████████████████████████████████████████████████| 87997/87997 [00:15<00:00, 5519.50 examples/s]\n",
      "Map: 100%|████████████████████████████████████████████████████████████████████| 11000/11000 [00:01<00:00, 5563.89 examples/s]\n",
      "Map: 100%|████████████████████████████████████████████████████████████████████| 11000/11000 [00:01<00:00, 5692.16 examples/s]"
     ]
    },
    {
     "name": "stdout",
     "output_type": "stream",
     "text": [
      "{'labels': tensor(0), 'input_ids': tensor([  101,  8288,  4297, 19761,  4263,  3617,  7163,  1021,  6763, 11300,\n",
      "         2075,  3698, 22468, 11300,  2121,  2005,  7975,  9457, 13020, 24209,\n",
      "        12502,  5055,  6410,  8288,  3810,  1998, 18213,  2491,  7287,  2615,\n",
      "          102,     0,     0,     0,     0,     0,     0,     0,     0,     0,\n",
      "            0,     0,     0,     0,     0,     0,     0,     0,     0,     0,\n",
      "            0,     0,     0,     0,     0,     0,     0,     0,     0,     0,\n",
      "            0,     0,     0,     0]), 'attention_mask': tensor([1, 1, 1, 1, 1, 1, 1, 1, 1, 1, 1, 1, 1, 1, 1, 1, 1, 1, 1, 1, 1, 1, 1, 1,\n",
      "        1, 1, 1, 1, 1, 1, 1, 0, 0, 0, 0, 0, 0, 0, 0, 0, 0, 0, 0, 0, 0, 0, 0, 0,\n",
      "        0, 0, 0, 0, 0, 0, 0, 0, 0, 0, 0, 0, 0, 0, 0, 0])}\n"
     ]
    },
    {
     "name": "stderr",
     "output_type": "stream",
     "text": [
      "\n"
     ]
    }
   ],
   "source": [
    "from datasets import Dataset, DatasetDict\n",
    "\n",
    "# Step 1: Split DataFrame into 3 subsets\n",
    "train_df = df_split[df_split['split_type'] == 'train']\n",
    "val_df = df_split[df_split['split_type'] == 'val']\n",
    "test_df = df_split[df_split['split_type'] == 'test']\n",
    "\n",
    "# Step 2: Convert pandas DataFrames to Hugging Face Datasets\n",
    "dataset = DatasetDict({\n",
    "    \"train\": Dataset.from_pandas(train_df),\n",
    "    \"val\": Dataset.from_pandas(val_df),\n",
    "    \"test\": Dataset.from_pandas(test_df)\n",
    "})\n",
    "\n",
    "# Step 3: Tokenization function for all rows\n",
    "def tokenize_function(example):\n",
    "    return tokenizer(\n",
    "        example[\"cleaned_product_name\"],\n",
    "        padding=\"max_length\",\n",
    "        truncation=True,\n",
    "        max_length=64\n",
    "    )\n",
    "\n",
    "# Step 4: Apply tokenizer to each row in each split\n",
    "tokenized_dataset = dataset.map(tokenize_function, batched=True)\n",
    "\n",
    "# Step 5: Rename your label column to 'labels' (what BERT expects)\n",
    "tokenized_dataset = tokenized_dataset.rename_column(\"relevant_code_binary\", \"labels\")\n",
    "\n",
    "# Step 6: Set format to PyTorch\n",
    "tokenized_dataset.set_format(\"torch\", columns=[\"input_ids\", \"attention_mask\", \"labels\"])\n",
    "\n",
    "# Quick check\n",
    "print(tokenized_dataset[\"train\"][0])"
   ]
  },
  {
   "cell_type": "code",
   "execution_count": 29,
   "id": "0a1278d3-7578-4b08-a1d0-4d91d4c3e402",
   "metadata": {},
   "outputs": [
    {
     "name": "stderr",
     "output_type": "stream",
     "text": [
      "Saving the dataset (1/1 shards): 100%|█████████████████████████████████████| 87997/87997 [00:00<00:00, 1441557.02 examples/s]\n",
      "Saving the dataset (1/1 shards): 100%|█████████████████████████████████████| 11000/11000 [00:00<00:00, 1345739.82 examples/s]\n",
      "Saving the dataset (1/1 shards): 100%|█████████████████████████████████████| 11000/11000 [00:00<00:00, 1570312.24 examples/s]\n"
     ]
    }
   ],
   "source": [
    "tokenized_dataset.save_to_disk(\"tokenized_dataset/\")"
   ]
  },
  {
   "cell_type": "code",
   "execution_count": null,
   "id": "c7eac564-0f8b-4cf8-9303-49f8ce73c621",
   "metadata": {},
   "outputs": [],
   "source": []
  }
 ],
 "metadata": {
  "kernelspec": {
   "display_name": "Python (bert_env)",
   "language": "python",
   "name": "bert_env"
  },
  "language_info": {
   "codemirror_mode": {
    "name": "ipython",
    "version": 3
   },
   "file_extension": ".py",
   "mimetype": "text/x-python",
   "name": "python",
   "nbconvert_exporter": "python",
   "pygments_lexer": "ipython3",
   "version": "3.10.16"
  }
 },
 "nbformat": 4,
 "nbformat_minor": 5
}
