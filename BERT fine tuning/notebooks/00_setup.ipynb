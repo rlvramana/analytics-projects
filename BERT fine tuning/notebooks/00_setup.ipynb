{
 "cells": [
  {
   "cell_type": "code",
   "execution_count": 3,
   "id": "c11358ed-d430-408e-8e97-bbedde74b8aa",
   "metadata": {},
   "outputs": [
    {
     "name": "stdout",
     "output_type": "stream",
     "text": [
      "Python version: 3.10.16 (main, Dec 11 2024, 10:22:29) [Clang 14.0.6 ]\n",
      "Platform: macOS-15.3.2-arm64-arm-64bit\n",
      "NumPy version: 1.26.4\n"
     ]
    }
   ],
   "source": [
    "# 00_setup.ipynb\n",
    "\n",
    "# Check environment basics\n",
    "import sys\n",
    "import platform\n",
    "import numpy as np\n",
    "\n",
    "print(\"Python version:\", sys.version)\n",
    "print(\"Platform:\", platform.platform())\n",
    "print(\"NumPy version:\", np.__version__)"
   ]
  },
  {
   "cell_type": "code",
   "execution_count": null,
   "id": "85ede406-796b-4277-b94e-10aadf0eed2b",
   "metadata": {},
   "outputs": [],
   "source": []
  }
 ],
 "metadata": {
  "kernelspec": {
   "display_name": "Python (bert_env)",
   "language": "python",
   "name": "bert_env"
  },
  "language_info": {
   "codemirror_mode": {
    "name": "ipython",
    "version": 3
   },
   "file_extension": ".py",
   "mimetype": "text/x-python",
   "name": "python",
   "nbconvert_exporter": "python",
   "pygments_lexer": "ipython3",
   "version": "3.10.16"
  }
 },
 "nbformat": 4,
 "nbformat_minor": 5
}
