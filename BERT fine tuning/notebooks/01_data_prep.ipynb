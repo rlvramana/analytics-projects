{
 "cells": [
  {
   "cell_type": "code",
   "execution_count": 79,
   "id": "829b6311-6455-4868-aa98-1c46108eabe5",
   "metadata": {},
   "outputs": [
    {
     "name": "stdout",
     "output_type": "stream",
     "text": [
      "Requirement already satisfied: sqlalchemy in /Users/ramana/anaconda3/envs/bert_env/lib/python3.10/site-packages (2.0.40)\n",
      "Requirement already satisfied: typing-extensions>=4.6.0 in /Users/ramana/anaconda3/envs/bert_env/lib/python3.10/site-packages (from sqlalchemy) (4.12.2)\n",
      "Requirement already satisfied: psycopg2-binary in /Users/ramana/anaconda3/envs/bert_env/lib/python3.10/site-packages (2.9.10)\n"
     ]
    }
   ],
   "source": [
    "!pip install sqlalchemy\n",
    "!pip install psycopg2-binary"
   ]
  },
  {
   "cell_type": "code",
   "execution_count": null,
   "id": "618da677-89a2-4a07-b977-d989800fd4c0",
   "metadata": {},
   "outputs": [
    {
     "name": "stdout",
     "output_type": "stream",
     "text": [
      "   test_connection\n",
      "0                1\n"
     ]
    }
   ],
   "source": [
    "from sqlalchemy import create_engine\n",
    "import pandas as pd\n",
    "from urllib.parse import quote_plus\n",
    "\n",
    "# Connection parameters (DONT EVER PLACE CREDS IN A SCRIPT, THIS IS ONLY FOR TESTING)\n",
    "db_type = ''\n",
    "host = ''\n",
    "dbname = ''\n",
    "user = ''\n",
    "password =  # safely escape @ symbol\n",
    "port = ''\n",
    "\n",
    "# Build connection string\n",
    "conn_str = f'{db_type}://{user}:{password}@{host}:{port}/{dbname}'\n",
    "\n",
    "# Create engine\n",
    "engine = create_engine(conn_str)\n",
    "\n",
    "# Test connection\n",
    "with engine.connect() as conn:\n",
    "    df_test = pd.read_sql(\"SELECT 1 AS test_connection\", conn)\n",
    "\n",
    "print(df_test)"
   ]
  },
  {
   "cell_type": "code",
   "execution_count": 65,
   "id": "7c7c186a-ac26-41a0-898a-364337527152",
   "metadata": {
    "scrolled": true
   },
   "outputs": [
    {
     "name": "stdout",
     "output_type": "stream",
     "text": [
      "Total rows pulled: 110000\n",
      "                                    product_name_raw  relevant_code_binary\n",
      "0  VECPIO Eco-Friendly Handcrafted Oversized Fair...                     0\n",
      "1  Jacenvly Clothes For Baby Dolls 43 Cm Coat 18 ...                     1\n",
      "2  FilterQueen Majestic Replacement Filter Kit, P...                     0\n",
      "3  DYstyle 2Pack RGB Wireless Spotlight Spot Ligh...                     0\n",
      "4  Cosplay.fm Women's Clown Costume Carnival Outf...                     0\n"
     ]
    }
   ],
   "source": [
    "#query = \"\"\"\n",
    "#SELECT\n",
    "#    product_name_raw,\n",
    "#    relevant_code_binary\n",
    "#FROM cleaned_retailer_events\n",
    "#WHERE relevant_code_binary IS NOT NULL\n",
    "#\"\"\"\n",
    "\n",
    "\n",
    "# 3. Execute the query and load into a DataFrame\n",
    "#df_input = pd.read_sql_query(query, con=engine)\n",
    "df_input = pd.read_csv(\"/Users/ramana/Documents/shopper_analysis/notebooks/1DataPrepInput/Dataprepinput_202504262252.csv\")\n",
    "\n",
    "# 4. Quick inspection\n",
    "print(f\"Total rows pulled: {len(df_input)}\")\n",
    "print(df_input.head())"
   ]
  },
  {
   "cell_type": "code",
   "execution_count": 66,
   "id": "baddd1d4-c78f-4925-9950-5ee59576c2cf",
   "metadata": {},
   "outputs": [
    {
     "data": {
      "text/html": [
       "<div>\n",
       "<style scoped>\n",
       "    .dataframe tbody tr th:only-of-type {\n",
       "        vertical-align: middle;\n",
       "    }\n",
       "\n",
       "    .dataframe tbody tr th {\n",
       "        vertical-align: top;\n",
       "    }\n",
       "\n",
       "    .dataframe thead th {\n",
       "        text-align: right;\n",
       "    }\n",
       "</style>\n",
       "<table border=\"1\" class=\"dataframe\">\n",
       "  <thead>\n",
       "    <tr style=\"text-align: right;\">\n",
       "      <th></th>\n",
       "      <th>product_name_raw</th>\n",
       "      <th>relevant_code_binary</th>\n",
       "      <th>cleaned_product_name</th>\n",
       "    </tr>\n",
       "  </thead>\n",
       "  <tbody>\n",
       "    <tr>\n",
       "      <th>0</th>\n",
       "      <td>VECPIO Eco-Friendly Handcrafted Oversized Fair...</td>\n",
       "      <td>0</td>\n",
       "      <td>vecpio eco friendly handcrafted oversized fair...</td>\n",
       "    </tr>\n",
       "    <tr>\n",
       "      <th>1</th>\n",
       "      <td>Jacenvly Clothes For Baby Dolls 43 Cm Coat 18 ...</td>\n",
       "      <td>1</td>\n",
       "      <td>jacenvly clothes for baby dolls 43 cm coat 18 ...</td>\n",
       "    </tr>\n",
       "    <tr>\n",
       "      <th>2</th>\n",
       "      <td>FilterQueen Majestic Replacement Filter Kit, P...</td>\n",
       "      <td>0</td>\n",
       "      <td>filterqueen majestic replacement filter kit pr...</td>\n",
       "    </tr>\n",
       "    <tr>\n",
       "      <th>3</th>\n",
       "      <td>DYstyle 2Pack RGB Wireless Spotlight Spot Ligh...</td>\n",
       "      <td>0</td>\n",
       "      <td>dystyle 2pack rgb wireless spotlight spot ligh...</td>\n",
       "    </tr>\n",
       "    <tr>\n",
       "      <th>4</th>\n",
       "      <td>Cosplay.fm Women's Clown Costume Carnival Outf...</td>\n",
       "      <td>0</td>\n",
       "      <td>cosplay fm women s clown costume carnival outf...</td>\n",
       "    </tr>\n",
       "  </tbody>\n",
       "</table>\n",
       "</div>"
      ],
      "text/plain": [
       "                                    product_name_raw  relevant_code_binary  \\\n",
       "0  VECPIO Eco-Friendly Handcrafted Oversized Fair...                     0   \n",
       "1  Jacenvly Clothes For Baby Dolls 43 Cm Coat 18 ...                     1   \n",
       "2  FilterQueen Majestic Replacement Filter Kit, P...                     0   \n",
       "3  DYstyle 2Pack RGB Wireless Spotlight Spot Ligh...                     0   \n",
       "4  Cosplay.fm Women's Clown Costume Carnival Outf...                     0   \n",
       "\n",
       "                                cleaned_product_name  \n",
       "0  vecpio eco friendly handcrafted oversized fair...  \n",
       "1  jacenvly clothes for baby dolls 43 cm coat 18 ...  \n",
       "2  filterqueen majestic replacement filter kit pr...  \n",
       "3  dystyle 2pack rgb wireless spotlight spot ligh...  \n",
       "4  cosplay fm women s clown costume carnival outf...  "
      ]
     },
     "execution_count": 66,
     "metadata": {},
     "output_type": "execute_result"
    }
   ],
   "source": [
    "import re\n",
    "\n",
    "# Drop null product names (if any)\n",
    "df_input = df_input.dropna(subset=['product_name_raw'])\n",
    "\n",
    "# Drop exact duplicates\n",
    "df_input = df_input.drop_duplicates(subset=['product_name_raw', 'relevant_code_binary'])\n",
    "\n",
    "# Define a cleaning function\n",
    "def clean_product_name(text):\n",
    "    if not isinstance(text, str):\n",
    "        return ''\n",
    "    text = text.lower()\n",
    "    text = re.sub(r\"[^a-z0-9\\s]\", \" \", text)  # keep letters, numbers, space\n",
    "    text = re.sub(r\"\\s+\", \" \", text)  # collapse multiple spaces\n",
    "    return text.strip()\n",
    "\n",
    "# Apply cleaning\n",
    "df_input['cleaned_product_name'] = df_input['product_name_raw'].apply(clean_product_name)\n",
    "\n",
    "# Drop rows where cleaned name ends up empty (just in case)\n",
    "df_input = df_input[df_input['cleaned_product_name'] != \"\"]\n",
    "\n",
    "# Show a sample\n",
    "df_input.head()"
   ]
  },
  {
   "cell_type": "code",
   "execution_count": 67,
   "id": "cc5a79b3-2fb9-486c-9203-2e7bc212a44e",
   "metadata": {},
   "outputs": [
    {
     "name": "stdout",
     "output_type": "stream",
     "text": [
      "Train set: 87997\n",
      "Temp set (val + test): 22000\n",
      "Validation set: 11000\n",
      "Test set: 11000\n",
      "\n",
      "Split distribution:\n",
      "split_type\n",
      "train    87997\n",
      "val      11000\n",
      "test     11000\n",
      "Name: count, dtype: int64\n",
      "\n",
      "Label distribution by split (raw counts):\n",
      "split_type  relevant_code_binary\n",
      "test        0                       10000\n",
      "            1                        1000\n",
      "train       0                       79997\n",
      "            1                        8000\n",
      "val         0                       10000\n",
      "            1                        1000\n",
      "Name: count, dtype: int64\n",
      "\n",
      "Label distribution by split (percentages):\n",
      "split_type  relevant_code_binary\n",
      "test        0                       0.909091\n",
      "            1                       0.090909\n",
      "train       0                       0.909088\n",
      "            1                       0.090912\n",
      "val         0                       0.909091\n",
      "            1                       0.090909\n",
      "Name: percentage, dtype: float64\n"
     ]
    }
   ],
   "source": [
    "from sklearn.model_selection import train_test_split\n",
    "\n",
    "# Make a safe copy of your cleaned and labeled data\n",
    "df = df_input.copy()\n",
    "\n",
    "# ---------------------------------------------\n",
    "# Step 1: Split into 80% train and 20% temp (val+test)\n",
    "# Stratify ensures class distribution (0 vs 1) is preserved in both splits\n",
    "df_train, df_temp = train_test_split(\n",
    "    df,\n",
    "    test_size=0.2,  # 20% held out for val + test\n",
    "    stratify=df['relevant_code_binary'],\n",
    "    random_state=42  # for reproducibility\n",
    ")\n",
    "\n",
    "print(\"Train set:\", len(df_train))\n",
    "print(\"Temp set (val + test):\", len(df_temp))\n",
    "\n",
    "# ---------------------------------------------\n",
    "# Step 2: Split temp into 50% val and 50% test\n",
    "df_val, df_test = train_test_split(\n",
    "    df_temp,\n",
    "    test_size=0.5,  # Half of temp becomes test (so test is 10% of total)\n",
    "    stratify=df_temp['relevant_code_binary'],\n",
    "    random_state=42\n",
    ")\n",
    "\n",
    "print(\"Validation set:\", len(df_val))\n",
    "print(\"Test set:\", len(df_test))\n",
    "\n",
    "# ---------------------------------------------\n",
    "# Step 3: Assign split labels to each set\n",
    "df_train['split_type'] = 'train'\n",
    "df_val['split_type'] = 'val'\n",
    "df_test['split_type'] = 'test'\n",
    "\n",
    "# ---------------------------------------------\n",
    "# Step 4: Combine all splits back into a single dataframe\n",
    "df_split = pd.concat([df_train, df_val, df_test], axis=0).reset_index(drop=True)\n",
    "\n",
    "# ---------------------------------------------\n",
    "# Step 5: Check the split sizes\n",
    "print(\"\\nSplit distribution:\")\n",
    "print(df_split['split_type'].value_counts())\n",
    "\n",
    "# ---------------------------------------------\n",
    "# Step 6: Check class balance in each split\n",
    "print(\"\\nLabel distribution by split (raw counts):\")\n",
    "print(df_split.groupby('split_type')['relevant_code_binary'].value_counts())\n",
    "\n",
    "print(\"\\nLabel distribution by split (percentages):\")\n",
    "percentages = df_split.groupby('split_type')['relevant_code_binary'].value_counts(normalize=True).rename(\"percentage\")\n",
    "print(percentages)"
   ]
  },
  {
   "cell_type": "code",
   "execution_count": 10,
   "id": "bea0c111-508c-4055-bb5c-fc7a45b1a257",
   "metadata": {},
   "outputs": [
    {
     "name": "stdout",
     "output_type": "stream",
     "text": [
      "Collecting matplotlib\n",
      "  Downloading matplotlib-3.10.1-cp310-cp310-macosx_11_0_arm64.whl.metadata (11 kB)\n",
      "Collecting contourpy>=1.0.1 (from matplotlib)\n",
      "  Downloading contourpy-1.3.2-cp310-cp310-macosx_11_0_arm64.whl.metadata (5.5 kB)\n",
      "Collecting cycler>=0.10 (from matplotlib)\n",
      "  Downloading cycler-0.12.1-py3-none-any.whl.metadata (3.8 kB)\n",
      "Collecting fonttools>=4.22.0 (from matplotlib)\n",
      "  Downloading fonttools-4.57.0-cp310-cp310-macosx_10_9_universal2.whl.metadata (102 kB)\n",
      "Collecting kiwisolver>=1.3.1 (from matplotlib)\n",
      "  Downloading kiwisolver-1.4.8-cp310-cp310-macosx_11_0_arm64.whl.metadata (6.2 kB)\n",
      "Requirement already satisfied: numpy>=1.23 in /Users/ramana/anaconda3/envs/bert_env/lib/python3.10/site-packages (from matplotlib) (1.26.4)\n",
      "Requirement already satisfied: packaging>=20.0 in /Users/ramana/anaconda3/envs/bert_env/lib/python3.10/site-packages (from matplotlib) (24.2)\n",
      "Collecting pillow>=8 (from matplotlib)\n",
      "  Downloading pillow-11.2.1-cp310-cp310-macosx_11_0_arm64.whl.metadata (8.9 kB)\n",
      "Collecting pyparsing>=2.3.1 (from matplotlib)\n",
      "  Downloading pyparsing-3.2.3-py3-none-any.whl.metadata (5.0 kB)\n",
      "Requirement already satisfied: python-dateutil>=2.7 in /Users/ramana/anaconda3/envs/bert_env/lib/python3.10/site-packages (from matplotlib) (2.9.0.post0)\n",
      "Requirement already satisfied: six>=1.5 in /Users/ramana/anaconda3/envs/bert_env/lib/python3.10/site-packages (from python-dateutil>=2.7->matplotlib) (1.17.0)\n",
      "Downloading matplotlib-3.10.1-cp310-cp310-macosx_11_0_arm64.whl (8.0 MB)\n",
      "\u001b[2K   \u001b[90m━━━━━━━━━━━━━━━━━━━━━━━━━━━━━━━━━━━━━━━━\u001b[0m \u001b[32m8.0/8.0 MB\u001b[0m \u001b[31m1.1 MB/s\u001b[0m eta \u001b[36m0:00:00\u001b[0m00:01\u001b[0m00:01\u001b[0m\n",
      "\u001b[?25hDownloading contourpy-1.3.2-cp310-cp310-macosx_11_0_arm64.whl (253 kB)\n",
      "Downloading cycler-0.12.1-py3-none-any.whl (8.3 kB)\n",
      "Downloading fonttools-4.57.0-cp310-cp310-macosx_10_9_universal2.whl (2.8 MB)\n",
      "\u001b[2K   \u001b[90m━━━━━━━━━━━━━━━━━━━━━━━━━━━━━━━━━━━━━━━━\u001b[0m \u001b[32m2.8/2.8 MB\u001b[0m \u001b[31m1.1 MB/s\u001b[0m eta \u001b[36m0:00:00\u001b[0ma \u001b[36m0:00:01\u001b[0m\n",
      "Downloading kiwisolver-1.4.8-cp310-cp310-macosx_11_0_arm64.whl (65 kB)\n",
      "Downloading pillow-11.2.1-cp310-cp310-macosx_11_0_arm64.whl (3.0 MB)\n",
      "\u001b[2K   \u001b[90m━━━━━━━━━━━━━━━━━━━━━━━━━━━━━━━━━━━━━━━━\u001b[0m \u001b[32m3.0/3.0 MB\u001b[0m \u001b[31m910.6 kB/s\u001b[0m eta \u001b[36m0:00:00\u001b[0ma \u001b[36m0:00:01\u001b[0m\n",
      "\u001b[?25hDownloading pyparsing-3.2.3-py3-none-any.whl (111 kB)\n",
      "Installing collected packages: pyparsing, pillow, kiwisolver, fonttools, cycler, contourpy, matplotlib\n",
      "Successfully installed contourpy-1.3.2 cycler-0.12.1 fonttools-4.57.0 kiwisolver-1.4.8 matplotlib-3.10.1 pillow-11.2.1 pyparsing-3.2.3\n"
     ]
    }
   ],
   "source": [
    "!pip install matplotlib"
   ]
  },
  {
   "cell_type": "code",
   "execution_count": 68,
   "id": "cd044906-30de-4933-8852-ec0542e3602f",
   "metadata": {},
   "outputs": [
    {
     "data": {
      "image/png": "[encoded data removed]",
      "text/plain": [
       "<Figure size 600x400 with 1 Axes>"
      ]
     },
     "metadata": {},
     "output_type": "display_data"
    }
   ],
   "source": [
    "import matplotlib.pyplot as plt\n",
    "\n",
    "# Count labels within each split\n",
    "split_counts = df_split.groupby(['split_type', 'relevant_code_binary']).size().unstack()\n",
    "\n",
    "# Plot stacked bar chart\n",
    "split_counts.plot(kind='bar', stacked=True, figsize=(6, 4))\n",
    "plt.title(\"Label Distribution per Split\")\n",
    "plt.xlabel(\"Split Type\")\n",
    "plt.ylabel(\"Number of Records\")\n",
    "plt.legend(title='Label (1 = Fashion, 0 = Non-Fashion)')\n",
    "plt.tight_layout()\n",
    "plt.show()"
   ]
  },
  {
   "cell_type": "code",
   "execution_count": 76,
   "id": "2480c8b7-b663-48f6-bade-a3924c97e705",
   "metadata": {},
   "outputs": [
    {
     "name": "stdout",
     "output_type": "stream",
     "text": [
      "Insert completed. Rows inserted: 109997\n"
     ]
    }
   ],
   "source": [
    "# Somewhere at the top of your notebook\n",
    "current_iteration = 1\n",
    "\n",
    "# When ready to insert\n",
    "df_split['iteration'] = current_iteration\n",
    "\n",
    "# Save to SQL\n",
    "df_split.to_sql(\n",
    "    'fashion_labeled_cleaned',\n",
    "    engine,\n",
    "    if_exists='append',\n",
    "    index=False\n",
    ")\n",
    "\n",
    "# Print confirmation\n",
    "print(f\"Insert completed. Rows inserted: {len(df_split)}\")\n",
    "\n",
    "# Then manually increment for next time\n",
    "current_iteration += 1"
   ]
  },
  {
   "cell_type": "code",
   "execution_count": 78,
   "id": "5b13a05e-ef55-4cd2-a751-5c6278047a48",
   "metadata": {},
   "outputs": [],
   "source": [
    "from datetime import datetime\n",
    "timestamp = datetime.now().strftime(\"%Y-%m-%d_%H-%M-%S\")\n",
    "df_split.to_csv(f\"/Users/ramana/Documents/shopper_analysis/notebooks/2TrainingInput/training_{timestamp}.csv\", index=False)"
   ]
  },
  {
   "cell_type": "code",
   "execution_count": null,
   "id": "82c5bb0f-3731-4c0e-9b94-3511a822bc60",
   "metadata": {},
   "outputs": [],
   "source": []
  }
 ],
 "metadata": {
  "kernelspec": {
   "display_name": "Python (bert_env)",
   "language": "python",
   "name": "bert_env"
  },
  "language_info": {
   "codemirror_mode": {
    "name": "ipython",
    "version": 3
   },
   "file_extension": ".py",
   "mimetype": "text/x-python",
   "name": "python",
   "nbconvert_exporter": "python",
   "pygments_lexer": "ipython3",
   "version": "3.10.16"
  }
 },
 "nbformat": 4,
 "nbformat_minor": 5
}
